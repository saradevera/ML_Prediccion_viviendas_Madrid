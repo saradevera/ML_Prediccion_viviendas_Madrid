{
 "cells": [
  {
   "cell_type": "code",
   "execution_count": 1,
   "metadata": {},
   "outputs": [],
   "source": [
    "# IMPORTAMOS TODAS LAS LIBRERÍAS QUE NECESITAMOS\n",
    "\n",
    "import pandas as pd\n",
    "import numpy as np\n",
    "import matplotlib.pyplot as plt\n",
    "import seaborn as sns\n",
    "import matplotlib as mpl\n",
    "\n",
    "from sklearn.model_selection import train_test_split\n",
    "from sklearn.ensemble import RandomForestRegressor\n",
    "from sklearn.metrics import mean_absolute_error\n",
    "from sklearn.metrics import mean_squared_error\n",
    "from sklearn.metrics import mean_squared_error\n",
    "from sklearn.metrics import mean_absolute_percentage_error\n",
    "from sklearn import metrics\n",
    "\n",
    "import tensorflow as tf\n",
    "from tensorflow import keras\n",
    "from tensorflow.keras import layers\n",
    "\n",
    "from sklearn.model_selection import train_test_split\n",
    "from sklearn.preprocessing import StandardScaler, MinMaxScaler\n",
    "\n",
    "from datetime import datetime\n",
    "\n",
    "import pickle\n",
    "\n",
    "pd.set_option('display.max_columns', 1000)\n",
    "pd.set_option('display.max_rows', 1000)\n",
    "pd.set_option('display.max_colwidth',1000)"
   ]
  },
  {
   "cell_type": "code",
   "execution_count": 2,
   "metadata": {},
   "outputs": [],
   "source": [
    "# VAMOS A COMENZAR CON LAS PRUEBAS DE ENTRENAMIENTO DE DISTINTOS MODELOS\n",
    "\n",
    "df_completo = pd.read_csv('../data/df_model_completo.csv', index_col=0)\n",
    "# df_max_rel = pd.read_csv('../data/df_model_max_rel.csv', index_col=0)\n",
    "\n",
    "## VAMOS A TRANSFORMAR EN TRAIN Y TEST PARA LOS POSTERIORES ESTUDIOS DE LOS MODELOS\n",
    "\n",
    "train = df_completo.iloc[:-500, :]\n",
    "test = df_completo.drop(columns=['buy_price']).iloc[-500:, :]\n",
    "\n",
    "train.to_csv('../data/train.csv')\n",
    "test.to_csv('../data/test.csv')\n"
   ]
  },
  {
   "cell_type": "code",
   "execution_count": 3,
   "metadata": {},
   "outputs": [
    {
     "name": "stdout",
     "output_type": "stream",
     "text": [
      "(18684, 36)\n"
     ]
    },
    {
     "data": {
      "text/plain": [
       "(500, 35)"
      ]
     },
     "execution_count": 3,
     "metadata": {},
     "output_type": "execute_result"
    }
   ],
   "source": [
    "print(train.shape)\n",
    "test.shape"
   ]
  },
  {
   "cell_type": "code",
   "execution_count": 4,
   "metadata": {},
   "outputs": [
    {
     "data": {
      "text/html": [
       "<div>\n",
       "<style scoped>\n",
       "    .dataframe tbody tr th:only-of-type {\n",
       "        vertical-align: middle;\n",
       "    }\n",
       "\n",
       "    .dataframe tbody tr th {\n",
       "        vertical-align: top;\n",
       "    }\n",
       "\n",
       "    .dataframe thead th {\n",
       "        text-align: right;\n",
       "    }\n",
       "</style>\n",
       "<table border=\"1\" class=\"dataframe\">\n",
       "  <thead>\n",
       "    <tr style=\"text-align: right;\">\n",
       "      <th></th>\n",
       "      <th>sq_mt_built</th>\n",
       "      <th>n_rooms</th>\n",
       "      <th>n_bathrooms</th>\n",
       "      <th>floor</th>\n",
       "      <th>is_floor_under</th>\n",
       "      <th>buy_price</th>\n",
       "      <th>is_renewal_needed</th>\n",
       "      <th>is_new_development</th>\n",
       "      <th>built_year</th>\n",
       "      <th>has_central_heating</th>\n",
       "      <th>has_individual_heating</th>\n",
       "      <th>has_ac</th>\n",
       "      <th>has_fitted_wardrobes</th>\n",
       "      <th>has_lift</th>\n",
       "      <th>is_exterior</th>\n",
       "      <th>has_garden</th>\n",
       "      <th>has_pool</th>\n",
       "      <th>has_terrace</th>\n",
       "      <th>has_balcony</th>\n",
       "      <th>has_storage_room</th>\n",
       "      <th>is_accessible</th>\n",
       "      <th>has_green_zones</th>\n",
       "      <th>has_parking</th>\n",
       "      <th>parking_price</th>\n",
       "      <th>is_orientation_north</th>\n",
       "      <th>is_orientation_west</th>\n",
       "      <th>is_orientation_south</th>\n",
       "      <th>is_orientation_east</th>\n",
       "      <th>Pisos</th>\n",
       "      <th>Casa o chalet</th>\n",
       "      <th>Áticos</th>\n",
       "      <th>Dúplex</th>\n",
       "      <th>distrito_id_num</th>\n",
       "      <th>neighborhood_id_num</th>\n",
       "      <th>neighborhood_price_m2</th>\n",
       "      <th>estimado_metros_por_preciom2</th>\n",
       "    </tr>\n",
       "  </thead>\n",
       "  <tbody>\n",
       "    <tr>\n",
       "      <th>0</th>\n",
       "      <td>64.0</td>\n",
       "      <td>2</td>\n",
       "      <td>1.0</td>\n",
       "      <td>3.0</td>\n",
       "      <td>0</td>\n",
       "      <td>85000</td>\n",
       "      <td>0</td>\n",
       "      <td>0</td>\n",
       "      <td>1960.0</td>\n",
       "      <td>0</td>\n",
       "      <td>0</td>\n",
       "      <td>1</td>\n",
       "      <td>0</td>\n",
       "      <td>0</td>\n",
       "      <td>1</td>\n",
       "      <td>0</td>\n",
       "      <td>0</td>\n",
       "      <td>0</td>\n",
       "      <td>0</td>\n",
       "      <td>0</td>\n",
       "      <td>0</td>\n",
       "      <td>0</td>\n",
       "      <td>0</td>\n",
       "      <td>0.0</td>\n",
       "      <td>0</td>\n",
       "      <td>1</td>\n",
       "      <td>0</td>\n",
       "      <td>0</td>\n",
       "      <td>1</td>\n",
       "      <td>0</td>\n",
       "      <td>0</td>\n",
       "      <td>0</td>\n",
       "      <td>21.0</td>\n",
       "      <td>135.0</td>\n",
       "      <td>1308.89</td>\n",
       "      <td>83768.96</td>\n",
       "    </tr>\n",
       "    <tr>\n",
       "      <th>1</th>\n",
       "      <td>70.0</td>\n",
       "      <td>3</td>\n",
       "      <td>1.0</td>\n",
       "      <td>4.0</td>\n",
       "      <td>0</td>\n",
       "      <td>129900</td>\n",
       "      <td>1</td>\n",
       "      <td>0</td>\n",
       "      <td>1970.0</td>\n",
       "      <td>0</td>\n",
       "      <td>0</td>\n",
       "      <td>0</td>\n",
       "      <td>1</td>\n",
       "      <td>1</td>\n",
       "      <td>1</td>\n",
       "      <td>0</td>\n",
       "      <td>0</td>\n",
       "      <td>1</td>\n",
       "      <td>0</td>\n",
       "      <td>0</td>\n",
       "      <td>0</td>\n",
       "      <td>0</td>\n",
       "      <td>0</td>\n",
       "      <td>0.0</td>\n",
       "      <td>0</td>\n",
       "      <td>0</td>\n",
       "      <td>0</td>\n",
       "      <td>0</td>\n",
       "      <td>1</td>\n",
       "      <td>0</td>\n",
       "      <td>0</td>\n",
       "      <td>0</td>\n",
       "      <td>21.0</td>\n",
       "      <td>132.0</td>\n",
       "      <td>1796.68</td>\n",
       "      <td>125767.60</td>\n",
       "    </tr>\n",
       "    <tr>\n",
       "      <th>2</th>\n",
       "      <td>94.0</td>\n",
       "      <td>2</td>\n",
       "      <td>2.0</td>\n",
       "      <td>1.0</td>\n",
       "      <td>0</td>\n",
       "      <td>144247</td>\n",
       "      <td>0</td>\n",
       "      <td>0</td>\n",
       "      <td>1970.0</td>\n",
       "      <td>0</td>\n",
       "      <td>1</td>\n",
       "      <td>0</td>\n",
       "      <td>1</td>\n",
       "      <td>1</td>\n",
       "      <td>1</td>\n",
       "      <td>0</td>\n",
       "      <td>0</td>\n",
       "      <td>0</td>\n",
       "      <td>0</td>\n",
       "      <td>1</td>\n",
       "      <td>0</td>\n",
       "      <td>0</td>\n",
       "      <td>0</td>\n",
       "      <td>0.0</td>\n",
       "      <td>0</td>\n",
       "      <td>0</td>\n",
       "      <td>0</td>\n",
       "      <td>0</td>\n",
       "      <td>1</td>\n",
       "      <td>0</td>\n",
       "      <td>0</td>\n",
       "      <td>0</td>\n",
       "      <td>21.0</td>\n",
       "      <td>134.0</td>\n",
       "      <td>1617.18</td>\n",
       "      <td>152014.92</td>\n",
       "    </tr>\n",
       "    <tr>\n",
       "      <th>3</th>\n",
       "      <td>64.0</td>\n",
       "      <td>2</td>\n",
       "      <td>1.0</td>\n",
       "      <td>0.5</td>\n",
       "      <td>1</td>\n",
       "      <td>109900</td>\n",
       "      <td>0</td>\n",
       "      <td>0</td>\n",
       "      <td>1955.0</td>\n",
       "      <td>0</td>\n",
       "      <td>0</td>\n",
       "      <td>0</td>\n",
       "      <td>0</td>\n",
       "      <td>1</td>\n",
       "      <td>1</td>\n",
       "      <td>0</td>\n",
       "      <td>0</td>\n",
       "      <td>0</td>\n",
       "      <td>0</td>\n",
       "      <td>1</td>\n",
       "      <td>1</td>\n",
       "      <td>0</td>\n",
       "      <td>0</td>\n",
       "      <td>0.0</td>\n",
       "      <td>0</td>\n",
       "      <td>0</td>\n",
       "      <td>1</td>\n",
       "      <td>0</td>\n",
       "      <td>1</td>\n",
       "      <td>0</td>\n",
       "      <td>0</td>\n",
       "      <td>0</td>\n",
       "      <td>21.0</td>\n",
       "      <td>134.0</td>\n",
       "      <td>1617.18</td>\n",
       "      <td>103499.52</td>\n",
       "    </tr>\n",
       "    <tr>\n",
       "      <th>4</th>\n",
       "      <td>108.0</td>\n",
       "      <td>2</td>\n",
       "      <td>2.0</td>\n",
       "      <td>4.0</td>\n",
       "      <td>0</td>\n",
       "      <td>260000</td>\n",
       "      <td>0</td>\n",
       "      <td>0</td>\n",
       "      <td>2003.0</td>\n",
       "      <td>0</td>\n",
       "      <td>0</td>\n",
       "      <td>1</td>\n",
       "      <td>1</td>\n",
       "      <td>1</td>\n",
       "      <td>1</td>\n",
       "      <td>0</td>\n",
       "      <td>1</td>\n",
       "      <td>0</td>\n",
       "      <td>0</td>\n",
       "      <td>1</td>\n",
       "      <td>0</td>\n",
       "      <td>1</td>\n",
       "      <td>1</td>\n",
       "      <td>0.0</td>\n",
       "      <td>1</td>\n",
       "      <td>1</td>\n",
       "      <td>1</td>\n",
       "      <td>1</td>\n",
       "      <td>1</td>\n",
       "      <td>0</td>\n",
       "      <td>0</td>\n",
       "      <td>0</td>\n",
       "      <td>21.0</td>\n",
       "      <td>133.0</td>\n",
       "      <td>1827.79</td>\n",
       "      <td>197401.32</td>\n",
       "    </tr>\n",
       "  </tbody>\n",
       "</table>\n",
       "</div>"
      ],
      "text/plain": [
       "   sq_mt_built  n_rooms  n_bathrooms  floor  is_floor_under  buy_price  \\\n",
       "0         64.0        2          1.0    3.0               0      85000   \n",
       "1         70.0        3          1.0    4.0               0     129900   \n",
       "2         94.0        2          2.0    1.0               0     144247   \n",
       "3         64.0        2          1.0    0.5               1     109900   \n",
       "4        108.0        2          2.0    4.0               0     260000   \n",
       "\n",
       "   is_renewal_needed  is_new_development  built_year  has_central_heating  \\\n",
       "0                  0                   0      1960.0                    0   \n",
       "1                  1                   0      1970.0                    0   \n",
       "2                  0                   0      1970.0                    0   \n",
       "3                  0                   0      1955.0                    0   \n",
       "4                  0                   0      2003.0                    0   \n",
       "\n",
       "   has_individual_heating  has_ac  has_fitted_wardrobes  has_lift  \\\n",
       "0                       0       1                     0         0   \n",
       "1                       0       0                     1         1   \n",
       "2                       1       0                     1         1   \n",
       "3                       0       0                     0         1   \n",
       "4                       0       1                     1         1   \n",
       "\n",
       "   is_exterior  has_garden  has_pool  has_terrace  has_balcony  \\\n",
       "0            1           0         0            0            0   \n",
       "1            1           0         0            1            0   \n",
       "2            1           0         0            0            0   \n",
       "3            1           0         0            0            0   \n",
       "4            1           0         1            0            0   \n",
       "\n",
       "   has_storage_room  is_accessible  has_green_zones  has_parking  \\\n",
       "0                 0              0                0            0   \n",
       "1                 0              0                0            0   \n",
       "2                 1              0                0            0   \n",
       "3                 1              1                0            0   \n",
       "4                 1              0                1            1   \n",
       "\n",
       "   parking_price  is_orientation_north  is_orientation_west  \\\n",
       "0            0.0                     0                    1   \n",
       "1            0.0                     0                    0   \n",
       "2            0.0                     0                    0   \n",
       "3            0.0                     0                    0   \n",
       "4            0.0                     1                    1   \n",
       "\n",
       "   is_orientation_south  is_orientation_east  Pisos  Casa o chalet  Áticos  \\\n",
       "0                     0                    0      1              0       0   \n",
       "1                     0                    0      1              0       0   \n",
       "2                     0                    0      1              0       0   \n",
       "3                     1                    0      1              0       0   \n",
       "4                     1                    1      1              0       0   \n",
       "\n",
       "   Dúplex  distrito_id_num  neighborhood_id_num  neighborhood_price_m2  \\\n",
       "0       0             21.0                135.0                1308.89   \n",
       "1       0             21.0                132.0                1796.68   \n",
       "2       0             21.0                134.0                1617.18   \n",
       "3       0             21.0                134.0                1617.18   \n",
       "4       0             21.0                133.0                1827.79   \n",
       "\n",
       "   estimado_metros_por_preciom2  \n",
       "0                      83768.96  \n",
       "1                     125767.60  \n",
       "2                     152014.92  \n",
       "3                     103499.52  \n",
       "4                     197401.32  "
      ]
     },
     "execution_count": 4,
     "metadata": {},
     "output_type": "execute_result"
    }
   ],
   "source": [
    "df_completo.head()"
   ]
  },
  {
   "cell_type": "code",
   "execution_count": 5,
   "metadata": {},
   "outputs": [],
   "source": [
    "X= df_completo.drop(columns=(['buy_price']))\n",
    "\n",
    "y= df_completo['buy_price']\n",
    "\n",
    "features = [X.columns]\n",
    "\n",
    "X_train, X_test, y_train, y_test = train_test_split(X,\n",
    "                                                    y,\n",
    "                                                    test_size = 0.10,\n",
    "                                                    random_state=42)"
   ]
  },
  {
   "cell_type": "code",
   "execution_count": 6,
   "metadata": {},
   "outputs": [],
   "source": [
    "modelo_rf = RandomForestRegressor(\n",
    "            n_estimators = 1000,\n",
    "            # criterion = 'squared_error',\n",
    "            # max_depth=50,\n",
    "            )\n",
    "\n",
    "modelo_rf.fit(X_train, y_train)\n",
    "\n",
    "predictions_rf = modelo_rf.predict(X_test)"
   ]
  },
  {
   "cell_type": "code",
   "execution_count": 7,
   "metadata": {},
   "outputs": [
    {
     "name": "stdout",
     "output_type": "stream",
     "text": [
      "0.9900372496631697\n",
      "0.9235613042107623\n",
      "MAE: 49948.35201273651\n",
      "MAPE: 0.12769451790036015\n"
     ]
    }
   ],
   "source": [
    "print(modelo_rf.score(X_train, y_train))\n",
    "print(modelo_rf.score(X_test, y_test))\n",
    "\n",
    "print('MAE:', mean_absolute_error(y_test, predictions_rf))\n",
    "print('MAPE:', mean_absolute_percentage_error(y_test, predictions_rf))"
   ]
  },
  {
   "cell_type": "code",
   "execution_count": 8,
   "metadata": {},
   "outputs": [],
   "source": [
    "predictions_rf = modelo_rf.predict(test)\n",
    "# predictions_rf"
   ]
  },
  {
   "cell_type": "code",
   "execution_count": 17,
   "metadata": {},
   "outputs": [],
   "source": [
    "# LO EXPORTAMOS EN PICKLE PARA LA ENTREGA\n",
    "\n",
    "import os\n",
    "\n",
    "filename = '../model/modelo_' + datetime.now().strftime(\"%Y%m%d-%H%M%S\") + '.sav'\n",
    "\n",
    "with open(filename, 'wb') as archivo_salida:\n",
    "    pickle.dump(modelo_rf, archivo_salida)"
   ]
  },
  {
   "cell_type": "code",
   "execution_count": 14,
   "metadata": {},
   "outputs": [],
   "source": [
    "path_my_model  = '../model/modelo_20220913-224431.sav'\n",
    "\n",
    "with open(path_my_model, 'rb') as archivo_entrada:\n",
    "    my_model = pickle.load(archivo_entrada)"
   ]
  },
  {
   "cell_type": "code",
   "execution_count": 15,
   "metadata": {},
   "outputs": [
    {
     "data": {
      "text/plain": [
       "(500, 35)"
      ]
     },
     "execution_count": 15,
     "metadata": {},
     "output_type": "execute_result"
    }
   ],
   "source": [
    "test = pd.read_csv('../data/test.csv', index_col=[0])\n",
    "test.shape"
   ]
  },
  {
   "cell_type": "code",
   "execution_count": 16,
   "metadata": {},
   "outputs": [],
   "source": [
    "\n",
    "predicciones = my_model.predict(test)\n",
    "\n",
    "predicciones_test = pd.DataFrame(test.index)\n",
    "predicciones_test['preds'] = predicciones"
   ]
  },
  {
   "cell_type": "code",
   "execution_count": 13,
   "metadata": {},
   "outputs": [
    {
     "ename": "NameError",
     "evalue": "name 'holi' is not defined",
     "output_type": "error",
     "traceback": [
      "\u001b[1;31m---------------------------------------------------------------------------\u001b[0m",
      "\u001b[1;31mNameError\u001b[0m                                 Traceback (most recent call last)",
      "\u001b[1;32m~\\AppData\\Local\\Temp\\ipykernel_16148\\1248217641.py\u001b[0m in \u001b[0;36m<module>\u001b[1;34m\u001b[0m\n\u001b[1;32m----> 1\u001b[1;33m \u001b[0mholi\u001b[0m\u001b[1;33m\u001b[0m\u001b[1;33m\u001b[0m\u001b[0m\n\u001b[0m",
      "\u001b[1;31mNameError\u001b[0m: name 'holi' is not defined"
     ]
    }
   ],
   "source": [
    "holi"
   ]
  },
  {
   "cell_type": "code",
   "execution_count": null,
   "metadata": {},
   "outputs": [],
   "source": [
    "\n",
    "# predicciones_test.to_csv('../data//predicciones_PRUEBA', index = False)"
   ]
  },
  {
   "cell_type": "code",
   "execution_count": null,
   "metadata": {},
   "outputs": [
    {
     "name": "stderr",
     "output_type": "stream",
     "text": [
      "c:\\Users\\pieci\\AppData\\Local\\Programs\\Python\\Python37\\lib\\site-packages\\ipykernel_launcher.py:4: UserWarning: color is redundantly defined by the 'color' keyword argument and the fmt string \"ro\" (-> color='r'). The keyword argument will take precedence.\n",
      "  after removing the cwd from sys.path.\n"
     ]
    },
    {
     "data": {
      "image/png": "[encoded data removed]",
      "text/plain": [
       "<Figure size 1080x720 with 1 Axes>"
      ]
     },
     "metadata": {
      "needs_background": "light"
     },
     "output_type": "display_data"
    }
   ],
   "source": [
    "fig, ax = plt.subplots(figsize=(15,10))\n",
    "\n",
    "# sns.scatterplot(predictions_rf, y_test.values, marker='^',  color='indianred', s=75)\n",
    "plt.plot(predictions_rf, y_test.values, 'ro', color='indianred')\n",
    "plt.xlabel('Predicciones', fontsize = 20)\n",
    "plt.ylabel('Realidad', fontsize = 20)\n",
    "plt.title('Predicciones vs Realidad en la Fase Test', fontsize = 20)\n",
    "ax.plot([y_test.min(), y_test.max()], [y_test.min(), y_test.max()], 'k--', lw=2.5)\n",
    "plt.show()"
   ]
  },
  {
   "cell_type": "code",
   "execution_count": null,
   "metadata": {},
   "outputs": [
    {
     "data": {
      "text/plain": [
       "423635.766941201"
      ]
     },
     "execution_count": 105,
     "metadata": {},
     "output_type": "execute_result"
    }
   ],
   "source": [
    "df_completo['buy_price'].mean()"
   ]
  },
  {
   "cell_type": "code",
   "execution_count": null,
   "metadata": {},
   "outputs": [],
   "source": [
    "# comp_errores = pd.DataFrame(y_test)\n",
    "# comp_errores['predictions_rf']= predictions_rf\n",
    "# comp_errores['errores'] = abs(y_test-predictions_rf)\n",
    "\n",
    "# comp_errores.sort_values(by='errores', ascending=False).head(50)"
   ]
  },
  {
   "cell_type": "code",
   "execution_count": null,
   "metadata": {},
   "outputs": [
    {
     "data": {
      "image/png": "[encoded data removed]",
      "text/plain": [
       "<Figure size 864x432 with 1 Axes>"
      ]
     },
     "metadata": {
      "needs_background": "light"
     },
     "output_type": "display_data"
    }
   ],
   "source": [
    "plt.figure(figsize=(12,6))\n",
    "sns.barplot(x=features[0], y=modelo_rf.feature_importances_)\n",
    "plt.xticks(rotation=90);"
   ]
  },
  {
   "cell_type": "code",
   "execution_count": null,
   "metadata": {},
   "outputs": [],
   "source": [
    "from sklearn.preprocessing import StandardScaler\n",
    "\n",
    "# Scaling the data\n",
    "scaler = StandardScaler()\n",
    "\n",
    "# Data scaled\n",
    "X_train = scaler.fit_transform(X_train)\n",
    "X_test = scaler.transform(X_test)\n",
    "\n",
    "\n",
    "from xgboost import XGBRegressor\n",
    "from sklearn import metrics\n",
    "from sklearn.preprocessing import LabelEncoder\n",
    "\n",
    "# Modelo 1 - XGBRegressor\n",
    "modelo = XGBRegressor(\n",
    "    # max_depth=6, \n",
    "    # learning_rate=0.08\n",
    "    )\n",
    "\n",
    "modelo.fit(X_train, y_train)\n",
    "\n",
    "preds = modelo.predict(X_test)"
   ]
  },
  {
   "cell_type": "code",
   "execution_count": null,
   "metadata": {},
   "outputs": [
    {
     "name": "stdout",
     "output_type": "stream",
     "text": [
      "0.97256020837281\n",
      "0.923704828616937\n",
      "r2score 0.923704828616937\n",
      "MAE: 51810.348299488665\n",
      "MAPE: 0.13023816803888683\n"
     ]
    }
   ],
   "source": [
    "from sklearn.metrics import r2_score\n",
    "\n",
    "print(modelo.score(X_train, y_train))\n",
    "print(modelo.score(X_test, y_test))\n",
    "\n",
    "print('MAE:', mean_absolute_error(y_test, preds))\n",
    "print('MAPE:', mean_absolute_percentage_error(y_test, preds))"
   ]
  },
  {
   "cell_type": "code",
   "execution_count": null,
   "metadata": {},
   "outputs": [],
   "source": [
    "## VAMOS A PROBAR CON REDES NEURONALES PARA VER QUE RESULTADOS NOS DA\n",
    "from tensorflow import keras\n",
    "\n",
    "X= df_completo.drop(columns=(['buy_price']))\n",
    "\n",
    "y= df_completo['buy_price']\n",
    "\n",
    "X_train, X_test, y_train, y_test = train_test_split(X, y, random_state=42)"
   ]
  },
  {
   "cell_type": "code",
   "execution_count": null,
   "metadata": {},
   "outputs": [],
   "source": [
    "scaler = MinMaxScaler()\n",
    "\n",
    "X_train = scaler.fit_transform(X_train)\n",
    "X_test = scaler.transform(X_test)"
   ]
  },
  {
   "cell_type": "code",
   "execution_count": null,
   "metadata": {},
   "outputs": [],
   "source": [
    "model = keras.models.Sequential([\n",
    "    keras.layers.Dense(64, activation = 'relu',\n",
    "                      input_shape = X_train.shape[1:]),\n",
    "    keras.layers.Dense(64, activation = 'relu',\n",
    "                      ),\n",
    "    keras.layers.Dense(1, activation= 'relu')\n",
    "])\n",
    "\n",
    "model.compile(loss = 'mse',\n",
    "             optimizer = tf.keras.optimizers.RMSprop(0.001),\n",
    "             metrics = ['mae', 'mse'])\n",
    "\n",
    "history = model.fit(X_train,\n",
    "                y_train,\n",
    "                epochs = 100,\n",
    "                validation_split=0.20,\n",
    "                callbacks=keras.callbacks.EarlyStopping(monitor='val_loss', patience=5)\n",
    "                )"
   ]
  },
  {
   "cell_type": "code",
   "execution_count": null,
   "metadata": {},
   "outputs": [],
   "source": [
    "pd.DataFrame(history.history).sort_values(by='val_mean_absolute_error', ascending=True)"
   ]
  }
 ],
 "metadata": {
  "kernelspec": {
   "display_name": "Python 3.7.4 64-bit",
   "language": "python",
   "name": "python3"
  },
  "language_info": {
   "codemirror_mode": {
    "name": "ipython",
    "version": 3
   },
   "file_extension": ".py",
   "mimetype": "text/x-python",
   "name": "python",
   "nbconvert_exporter": "python",
   "pygments_lexer": "ipython3",
   "version": "3.7.4"
  },
  "orig_nbformat": 4,
  "vscode": {
   "interpreter": {
    "hash": "bed665d392a0b16c59368a0492a31cfeef380a776e0741f5d7e9c0d91554052a"
   }
  }
 },
 "nbformat": 4,
 "nbformat_minor": 2
}
