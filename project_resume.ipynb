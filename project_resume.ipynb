{
 "cells": [
  {
   "cell_type": "markdown",
   "metadata": {},
   "source": [
    "#### PROJECT RESUME DEL TRABAJO DE MACHINE LEARNING DE PREDICCIÓN DE PRECIOS DE VIVIENDAS\n",
    "\n",
    "##### Comenzamos cargando nuestro dataset 'houses_Madrid.csv'.\n",
    "\n",
    "Estudiamos los datos obtenidos y empezamos a trabajar con ellos\n",
    "\n",
    "1.- LIMPIEZA Y FEATURE ENGINEERING\n",
    "\n",
    "En el notebook que se encuentra en el siguiente path: 'notebooks/project_limpieza_y_feat_engin.ipynb' se puede encontrar todo el código utilizado y todos los pasos que se han seguido, descritos.\n",
    "\n",
    "    En resumen se han hecho los siguientes procesos:\n",
    "        *Eliminación de duplicados\n",
    "        *Estudio de missing values \n",
    "        *Eliminación de columnas innecesarias\n",
    "        *Sustitución de los missing values según criterios acordes a cada caso\n",
    "        *Tratamiento de las variables categóricas según cada caso\n",
    "        *Sustitución de las variables booleanas por valores 0 y 1\n",
    "        *Obtención de variables nuevas con el objetivo de tener más correlación con el target\n",
    "        *Exportado del dataframe ya limpio y preparado para el estudio estadístico\n"
   ]
  },
  {
   "cell_type": "markdown",
   "metadata": {},
   "source": [
    "##### Una vez los datos están limpios y convertidos al 100% en variables numéricas, procedemos al análisis estadístico\n",
    "2.- EDA\n",
    "\n",
    "En el notebook que se encuentra en el siguiente path: 'notebooks/project_eda.ipynb' se puede encontrar todo el código utilizado y todos los pasos que se han seguido, descritos.\n",
    "\n",
    "    En resumen se han hecho los siguientes procesos:\n",
    "        *Estudio completo estadístico de las variables\n",
    "        *Histogramas de variables más importantes\n",
    "        *Gráfico scatter bivariable para el estudio de la relación entre ellas y los outliers\n",
    "        *Eliminación de outliers que afectarían al rendimiento del modelo\n",
    "        *Pairplot completo de la relación entre todas las variables\n",
    "        *Mapa de calor de la correlación entre las variables\n",
    "        *Listado de variables ordenadas por su importancia con el target\n",
    "        *Heatmap con las variables más correladas\n",
    "        *Exportado del dataframe transformado en dos dataframes, uno completo y otro con las variables más importantes\n",
    "    "
   ]
  },
  {
   "cell_type": "markdown",
   "metadata": {},
   "source": [
    "##### Con los datos transformados según las decisiones tomadas en el EDA, procedemos al modelado\n",
    "3.- Modelos\n",
    "\n",
    "En el notebook que se encuentra en el siguiente path: 'notebooks/project_modelos.ipynb' se puede encontrar todo el código utilizado y todos los pasos que se han seguido, descritos.\n",
    "\n",
    "    En este último notebook, se han probado distintos modelos con variación de parámetros, escalados, etc.\n",
    "    \n",
    "    De aquí ha salido el modelo definitivo que se puede entrenar a través del script 'train.py'"
   ]
  },
  {
   "cell_type": "markdown",
   "metadata": {},
   "source": [
    "### importante!\n",
    "\n",
    "##### PARA FACILITAR EL USO DEL MODELO DEFINITIVO, SE HAN PREPARADO DOS SCRIPTS .PY:\n",
    "\n",
    "*El script llamado train.py, nos permite importar el modelo definitivo, entrenarlo y posteriormente exportarlo para su uso.\n",
    "\n",
    "*El script llamado predict.py nos permite cargar el dataset de test, cargar el modelo creado anteriormente, sacar unas predicciones\n",
    "y exportarlas en formato csv."
   ]
  }
 ],
 "metadata": {
  "kernelspec": {
   "display_name": "Python 3.7.4 64-bit",
   "language": "python",
   "name": "python3"
  },
  "language_info": {
   "codemirror_mode": {
    "name": "ipython",
    "version": 3
   },
   "file_extension": ".py",
   "mimetype": "text/x-python",
   "name": "python",
   "nbconvert_exporter": "python",
   "pygments_lexer": "ipython3",
   "version": "3.7.4"
  },
  "orig_nbformat": 4,
  "vscode": {
   "interpreter": {
    "hash": "bed665d392a0b16c59368a0492a31cfeef380a776e0741f5d7e9c0d91554052a"
   }
  }
 },
 "nbformat": 4,
 "nbformat_minor": 2
}
